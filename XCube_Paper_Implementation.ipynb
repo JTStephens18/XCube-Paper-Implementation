{
  "nbformat": 4,
  "nbformat_minor": 0,
  "metadata": {
    "colab": {
      "provenance": [],
      "authorship_tag": "ABX9TyNUbJ1er1+dz9Mft9Jw1iYf",
      "include_colab_link": true
    },
    "kernelspec": {
      "name": "python3",
      "display_name": "Python 3"
    },
    "language_info": {
      "name": "python"
    }
  },
  "cells": [
    {
      "cell_type": "markdown",
      "metadata": {
        "id": "view-in-github",
        "colab_type": "text"
      },
      "source": [
        "<a href=\"https://colab.research.google.com/github/JTStephens18/XCube-Paper-Implementation/blob/main/XCube_Paper_Implementation.ipynb\" target=\"_parent\"><img src=\"https://colab.research.google.com/assets/colab-badge.svg\" alt=\"Open In Colab\"/></a>"
      ]
    },
    {
      "cell_type": "code",
      "source": [
        "import os\n",
        "import random\n",
        "import numpy as np\n",
        "import math\n",
        "\n",
        "import torch\n",
        "import torch.nn as nn\n",
        "import torch.nn.functional as F\n",
        "from torch.utils.data import Dataset, DataLoader"
      ],
      "metadata": {
        "id": "QDuQhvJpfCz-"
      },
      "execution_count": null,
      "outputs": []
    },
    {
      "cell_type": "markdown",
      "source": [
        "# Helpful Resources / References"
      ],
      "metadata": {
        "id": "FaYLPnmDoXK7"
      }
    },
    {
      "cell_type": "markdown",
      "source": [
        "- XCube Paper: https://research.nvidia.com/labs/toronto-ai/xcube/\n",
        "- VAE refresher: https://www.youtube.com/watch?v=H2XgdND0DV4\n",
        "- Amazing explanation of the math of diffusion models: https://www.youtube.com/watch?v=HoKDTa5jHvg\n",
        "- Part 1 of the following talk was very helpful in checking my understanding of the DDPMs: https://www.youtube.com/watch?v=cS6JQpEY9cs\n",
        "- https://github.com/Stability-AI/stablediffusion/blob/main/ldm/modules/diffusionmodules/util.py\n",
        "- V-Parameterization trick: https://arxiv.org/pdf/2202.00512.pdf\n",
        "- Explanation of the straight through estimator: https://hassanaskary.medium.com/intuitive-explanation-of-straight-through-estimators-with-pytorch-implementation-71d99d25d9d0#:~:text=A%20straight%2Dthrough%20estimator%20is,function%20was%20an%20identity%20function."
      ],
      "metadata": {
        "id": "clcutF3dobMS"
      }
    },
    {
      "cell_type": "markdown",
      "source": [
        "# VAE"
      ],
      "metadata": {
        "id": "xMrvZIlzecGb"
      }
    },
    {
      "cell_type": "markdown",
      "source": [
        "## Preproccessing"
      ],
      "metadata": {
        "id": "lXW3_jZ_ee5n"
      }
    },
    {
      "cell_type": "markdown",
      "source": [
        "### Process Binvox Models"
      ],
      "metadata": {
        "id": "j0_IEPy1fPeP"
      }
    },
    {
      "cell_type": "code",
      "source": [
        "#  Copyright (C) 2012 Daniel Maturana\n",
        "#  This file is part of binvox-rw-py.\n",
        "#\n",
        "#  binvox-rw-py is free software: you can redistribute it and/or modify\n",
        "#  it under the terms of the GNU General Public License as published by\n",
        "#  the Free Software Foundation, either version 3 of the License, or\n",
        "#  (at your option) any later version.\n",
        "#\n",
        "#  binvox-rw-py is distributed in the hope that it will be useful,\n",
        "#  but WITHOUT ANY WARRANTY; without even the implied warranty of\n",
        "#  MERCHANTABILITY or FITNESS FOR A PARTICULAR PURPOSE.  See the\n",
        "#  GNU General Public License for more details.\n",
        "#\n",
        "#  You should have received a copy of the GNU General Public License\n",
        "#  along with binvox-rw-py. If not, see <http://www.gnu.org/licenses/>.\n",
        "#\n",
        "\n",
        "\"\"\"\n",
        "Binvox to Numpy and back.\n",
        "\n",
        "\n",
        ">>> import numpy as np\n",
        ">>> import binvox_rw\n",
        ">>> with open('chair.binvox', 'rb') as f:\n",
        "...     m1 = binvox_rw.read_as_3d_array(f)\n",
        "...\n",
        ">>> m1.dims\n",
        "[32, 32, 32]\n",
        ">>> m1.scale\n",
        "41.133000000000003\n",
        ">>> m1.translate\n",
        "[0.0, 0.0, 0.0]\n",
        ">>> with open('chair_out.binvox', 'wb') as f:\n",
        "...     m1.write(f)\n",
        "...\n",
        ">>> with open('chair_out.binvox', 'rb') as f:\n",
        "...     m2 = binvox_rw.read_as_3d_array(f)\n",
        "...\n",
        ">>> m1.dims==m2.dims\n",
        "True\n",
        ">>> m1.scale==m2.scale\n",
        "True\n",
        ">>> m1.translate==m2.translate\n",
        "True\n",
        ">>> np.all(m1.data==m2.data)\n",
        "True\n",
        "\n",
        ">>> with open('chair.binvox', 'rb') as f:\n",
        "...     md = binvox_rw.read_as_3d_array(f)\n",
        "...\n",
        ">>> with open('chair.binvox', 'rb') as f:\n",
        "...     ms = binvox_rw.read_as_coord_array(f)\n",
        "...\n",
        ">>> data_ds = binvox_rw.dense_to_sparse(md.data)\n",
        ">>> data_sd = binvox_rw.sparse_to_dense(ms.data, 32)\n",
        ">>> np.all(data_sd==md.data)\n",
        "True\n",
        ">>> # the ordering of elements returned by numpy.nonzero changes with axis\n",
        ">>> # ordering, so to compare for equality we first lexically sort the voxels.\n",
        ">>> np.all(ms.data[:, np.lexsort(ms.data)] == data_ds[:, np.lexsort(data_ds)])\n",
        "True\n",
        "\"\"\"\n",
        "\n",
        "import numpy as np\n",
        "\n",
        "class Voxels(object):\n",
        "    \"\"\" Holds a binvox model.\n",
        "    data is either a three-dimensional numpy boolean array (dense representation)\n",
        "    or a two-dimensional numpy float array (coordinate representation).\n",
        "\n",
        "    dims, translate and scale are the model metadata.\n",
        "\n",
        "    dims are the voxel dimensions, e.g. [32, 32, 32] for a 32x32x32 model.\n",
        "\n",
        "    scale and translate relate the voxels to the original model coordinates.\n",
        "\n",
        "    To translate voxel coordinates i, j, k to original coordinates x, y, z:\n",
        "\n",
        "    x_n = (i+.5)/dims[0]\n",
        "    y_n = (j+.5)/dims[1]\n",
        "    z_n = (k+.5)/dims[2]\n",
        "    x = scale*x_n + translate[0]\n",
        "    y = scale*y_n + translate[1]\n",
        "    z = scale*z_n + translate[2]\n",
        "\n",
        "    \"\"\"\n",
        "\n",
        "    def __init__(self, data, dims, translate, scale, axis_order):\n",
        "        self.data = data\n",
        "        self.dims = dims\n",
        "        self.translate = translate\n",
        "        self.scale = scale\n",
        "        assert (axis_order in ('xzy', 'xyz'))\n",
        "        self.axis_order = axis_order\n",
        "\n",
        "    def clone(self):\n",
        "        data = self.data.copy()\n",
        "        dims = self.dims[:]\n",
        "        translate = self.translate[:]\n",
        "        return Voxels(data, dims, translate, self.scale, self.axis_order)\n",
        "\n",
        "    def write(self, fp):\n",
        "        write(self, fp)\n",
        "\n",
        "def read_header(fp):\n",
        "    \"\"\" Read binvox header. Mostly meant for internal use.\n",
        "    \"\"\"\n",
        "    line = fp.readline().strip()\n",
        "    if not line.startswith(b'#binvox'):\n",
        "        raise IOError('Not a binvox file')\n",
        "    dims = list(map(int, fp.readline().strip().split(b' ')[1:]))\n",
        "    translate = list(map(float, fp.readline().strip().split(b' ')[1:]))\n",
        "    scale = list(map(float, fp.readline().strip().split(b' ')[1:]))[0]\n",
        "    line = fp.readline()\n",
        "    return dims, translate, scale\n",
        "\n",
        "def read_as_3d_array(fp, fix_coords=True):\n",
        "    \"\"\" Read binary binvox format as array.\n",
        "\n",
        "    Returns the model with accompanying metadata.\n",
        "\n",
        "    Voxels are stored in a three-dimensional numpy array, which is simple and\n",
        "    direct, but may use a lot of memory for large models. (Storage requirements\n",
        "    are 8*(d^3) bytes, where d is the dimensions of the binvox model. Numpy\n",
        "    boolean arrays use a byte per element).\n",
        "\n",
        "    Doesn't do any checks on input except for the '#binvox' line.\n",
        "    \"\"\"\n",
        "    dims, translate, scale = read_header(fp)\n",
        "    raw_data = np.frombuffer(fp.read(), dtype=np.uint8)\n",
        "    # if just using reshape() on the raw data:\n",
        "    # indexing the array as array[i,j,k], the indices map into the\n",
        "    # coords as:\n",
        "    # i -> x\n",
        "    # j -> z\n",
        "    # k -> y\n",
        "    # if fix_coords is true, then data is rearranged so that\n",
        "    # mapping is\n",
        "    # i -> x\n",
        "    # j -> y\n",
        "    # k -> z\n",
        "    values, counts = raw_data[::2], raw_data[1::2]\n",
        "    data = np.repeat(values, counts).astype(np.bool)\n",
        "    data = data.reshape(dims)\n",
        "    if fix_coords:\n",
        "        # xzy to xyz TODO the right thing\n",
        "        data = np.transpose(data, (0, 2, 1))\n",
        "        axis_order = 'xyz'\n",
        "    else:\n",
        "        axis_order = 'xzy'\n",
        "    return Voxels(data, dims, translate, scale, axis_order)\n",
        "\n",
        "def read_as_coord_array(fp, fix_coords=True):\n",
        "    \"\"\" Read binary binvox format as coordinates.\n",
        "\n",
        "    Returns binvox model with voxels in a \"coordinate\" representation, i.e.  an\n",
        "    3 x N array where N is the number of nonzero voxels. Each column\n",
        "    corresponds to a nonzero voxel and the 3 rows are the (x, z, y) coordinates\n",
        "    of the voxel.  (The odd ordering is due to the way binvox format lays out\n",
        "    data).  Note that coordinates refer to the binvox voxels, without any\n",
        "    scaling or translation.\n",
        "\n",
        "    Use this to save memory if your model is very sparse (mostly empty).\n",
        "\n",
        "    Doesn't do any checks on input except for the '#binvox' line.\n",
        "    \"\"\"\n",
        "    dims, translate, scale = read_header(fp)\n",
        "    raw_data = np.frombuffer(fp.read(), dtype=np.uint8)\n",
        "\n",
        "    values, counts = raw_data[::2], raw_data[1::2]\n",
        "\n",
        "    sz = np.prod(dims)\n",
        "    index, end_index = 0, 0\n",
        "    end_indices = np.cumsum(counts)\n",
        "    indices = np.concatenate(([0], end_indices[:-1])).astype(end_indices.dtype)\n",
        "\n",
        "    values = values.astype(np.bool)\n",
        "    indices = indices[values]\n",
        "    end_indices = end_indices[values]\n",
        "\n",
        "    nz_voxels = []\n",
        "    for index, end_index in zip(indices, end_indices):\n",
        "        nz_voxels.extend(range(index, end_index))\n",
        "    nz_voxels = np.array(nz_voxels)\n",
        "    # TODO are these dims correct?\n",
        "    # according to docs,\n",
        "    # index = x * wxh + z * width + y; // wxh = width * height = d * d\n",
        "\n",
        "    x = nz_voxels / (dims[0]*dims[1])\n",
        "    zwpy = nz_voxels % (dims[0]*dims[1]) # z*w + y\n",
        "    z = zwpy / dims[0]\n",
        "    y = zwpy % dims[0]\n",
        "    if fix_coords:\n",
        "        data = np.vstack((x, y, z))\n",
        "        axis_order = 'xyz'\n",
        "    else:\n",
        "        data = np.vstack((x, z, y))\n",
        "        axis_order = 'xzy'\n",
        "\n",
        "    #return Voxels(data, dims, translate, scale, axis_order)\n",
        "    return Voxels(np.ascontiguousarray(data), dims, translate, scale, axis_order)\n",
        "\n",
        "def dense_to_sparse(voxel_data, dtype=np.int):\n",
        "    \"\"\" From dense representation to sparse (coordinate) representation.\n",
        "    No coordinate reordering.\n",
        "    \"\"\"\n",
        "    if voxel_data.ndim!=3:\n",
        "        raise ValueError('voxel_data is wrong shape; should be 3D array.')\n",
        "    return np.asarray(np.nonzero(voxel_data), dtype)\n",
        "\n",
        "def sparse_to_dense(voxel_data, dims, dtype=np.bool):\n",
        "    if voxel_data.ndim!=2 or voxel_data.shape[0]!=3:\n",
        "        raise ValueError('voxel_data is wrong shape; should be 3xN array.')\n",
        "    if np.isscalar(dims):\n",
        "        dims = [dims]*3\n",
        "    dims = np.atleast_2d(dims).T\n",
        "    # truncate to integers\n",
        "    xyz = voxel_data.astype(np.int)\n",
        "    # discard voxels that fall outside dims\n",
        "    valid_ix = ~np.any((xyz < 0) | (xyz >= dims), 0)\n",
        "    xyz = xyz[:,valid_ix]\n",
        "    out = np.zeros(dims.flatten(), dtype=dtype)\n",
        "    out[tuple(xyz)] = True\n",
        "    return out\n",
        "\n",
        "#def get_linear_index(x, y, z, dims):\n",
        "    #\"\"\" Assuming xzy order. (y increasing fastest.\n",
        "    #TODO ensure this is right when dims are not all same\n",
        "    #\"\"\"\n",
        "    #return x*(dims[1]*dims[2]) + z*dims[1] + y\n",
        "\n",
        "def write(voxel_model, fp):\n",
        "    \"\"\" Write binary binvox format.\n",
        "\n",
        "    Note that when saving a model in sparse (coordinate) format, it is first\n",
        "    converted to dense format.\n",
        "\n",
        "    Doesn't check if the model is 'sane'.\n",
        "\n",
        "    \"\"\"\n",
        "    if voxel_model.data.ndim==2:\n",
        "        # TODO avoid conversion to dense\n",
        "        dense_voxel_data = sparse_to_dense(voxel_model.data, voxel_model.dims)\n",
        "    else:\n",
        "        dense_voxel_data = voxel_model.data\n",
        "\n",
        "    fp.write('#binvox 1\\n')\n",
        "    fp.write('dim '+' '.join(map(str, voxel_model.dims))+'\\n')\n",
        "    fp.write('translate '+' '.join(map(str, voxel_model.translate))+'\\n')\n",
        "    fp.write('scale '+str(voxel_model.scale)+'\\n')\n",
        "    fp.write('data\\n')\n",
        "    if not voxel_model.axis_order in ('xzy', 'xyz'):\n",
        "        raise ValueError('Unsupported voxel model axis order')\n",
        "\n",
        "    if voxel_model.axis_order=='xzy':\n",
        "        voxels_flat = dense_voxel_data.flatten()\n",
        "    elif voxel_model.axis_order=='xyz':\n",
        "        voxels_flat = np.transpose(dense_voxel_data, (0, 2, 1)).flatten()\n",
        "\n",
        "    # keep a sort of state machine for writing run length encoding\n",
        "    state = voxels_flat[0]\n",
        "    ctr = 0\n",
        "    for c in voxels_flat:\n",
        "        if c==state:\n",
        "            ctr += 1\n",
        "            # if ctr hits max, dump\n",
        "            if ctr==255:\n",
        "                fp.write(chr(state))\n",
        "                fp.write(chr(ctr))\n",
        "                ctr = 0\n",
        "        else:\n",
        "            # if switch state, dump\n",
        "            fp.write(chr(state))\n",
        "            fp.write(chr(ctr))\n",
        "            state = c\n",
        "            ctr = 1\n",
        "    # flush out remainders\n",
        "    if ctr > 0:\n",
        "        fp.write(chr(state))\n",
        "        fp.write(chr(ctr))\n",
        "\n",
        "\n",
        "    import doctest\n",
        "    doctest.testmod()"
      ],
      "metadata": {
        "id": "95IUjMAOfNEz"
      },
      "execution_count": null,
      "outputs": []
    },
    {
      "cell_type": "markdown",
      "source": [
        "### Helper Functions"
      ],
      "metadata": {
        "id": "hjJnMLICfcfB"
      }
    },
    {
      "cell_type": "code",
      "execution_count": null,
      "metadata": {
        "id": "_PavyNhMeX9M"
      },
      "outputs": [],
      "source": [
        "def calcNormals(voxelGrid):\n",
        "  '''\n",
        "    Calculating normal vectors for each point using central differences method\n",
        "  '''\n",
        "  shape = voxelGrid.shape\n",
        "\n",
        "  dx = (torch.roll(voxelGrid, shifts=(-1, 0, 0), dims=(2, 3, 4)) - torch.roll(voxelGrid, shifts=(1, 0, 0), dims=(2, 3, 4))) / 2.0\n",
        "  dy = (torch.roll(voxelGrid, shifts=(0, -1, 0), dims=(2, 3, 4)) - torch.roll(voxelGrid, shifts=(0, 1, 0), dims=(2, 3, 4))) / 2.0\n",
        "  dz = (torch.roll(voxelGrid, shifts=(0, 0, -1), dims=(2, 3, 4)) - torch.roll(voxelGrid, shifts=(0, 0, 1), dims=(2, 3, 4))) / 2.0\n",
        "\n",
        "  normal_vec = torch.stack([dx, dy, dz], dim=1)\n",
        "  return normal_vec"
      ]
    },
    {
      "cell_type": "code",
      "source": [
        "import plotly.graph_objects as go\n",
        "\n",
        "def plotVoxels(input):\n",
        "  '''\n",
        "    Only show points where the value is greater than 0.5\n",
        "  '''\n",
        "  threshold = 0.5\n",
        "  idx = 0\n",
        "  channels = 0\n",
        "  input = input.cpu()\n",
        "  x, y, z = np.where(input[idx][channels] > threshold)\n",
        "\n",
        "  fig = go.Figure(data=[go.Scatter3d(x=x, y=y, z=z, mode=\"markers\", marker=dict(size=1))])\n",
        "\n",
        "  fig.update_layout(scene=dict(xaxis_title='X', yaxis_title=\"Y\", zaxis_title=\"Z\"))\n",
        "\n",
        "  fig.show()"
      ],
      "metadata": {
        "id": "DGeJi0ixjBJP"
      },
      "execution_count": null,
      "outputs": []
    },
    {
      "cell_type": "markdown",
      "source": [
        "### Data Loader"
      ],
      "metadata": {
        "id": "Srux-nejf0zk"
      }
    },
    {
      "cell_type": "code",
      "source": [
        "\"\"\"\n",
        "  Splits the data into a training (80%) and validation (20%) set\n",
        "\"\"\"\n",
        "filepath = \"./binvoxModels_x64\"\n",
        "\n",
        "partition = {\"train\": [], \"validation\": []}\n",
        "labels = {}\n",
        "\n",
        "binvoxFiles = os.listdir(filepath)\n",
        "splitSize = int(len(binvoxFiles) * 0.2)\n",
        "randomIdx = random.sample(range(len(binvoxFiles)), splitSize)\n",
        "\n",
        "for i, binvox in enumerate(binvoxFiles):\n",
        "  if(binvox == \".ipynb_checkpoints\"):\n",
        "    print(i, binvox)\n",
        "    continue;\n",
        "\n",
        "  if(i in randomIdx):\n",
        "    labels[binvox.split(\".\")[0]] = len(partition[\"validation\"])\n",
        "    partition[\"validation\"].append(binvox)\n",
        "  else:\n",
        "    labels[binvox.split(\".\")[0]] = len(partition[\"train\"])\n",
        "    partition[\"train\"].append(binvox)"
      ],
      "metadata": {
        "id": "nIVYkzyqf_Aj"
      },
      "execution_count": null,
      "outputs": []
    },
    {
      "cell_type": "code",
      "source": [
        "class VoxelDataset(Dataset):\n",
        "  def __init__(self, data):\n",
        "    self.samples = len(data)\n",
        "    self.data = data\n",
        "\n",
        "  def __len__(self):\n",
        "    return self.samples\n",
        "\n",
        "  def __getitem__(self, index):\n",
        "    sample = self.data[index]\n",
        "    return sample"
      ],
      "metadata": {
        "id": "T3X_K9Igf3rc"
      },
      "execution_count": null,
      "outputs": []
    },
    {
      "cell_type": "code",
      "source": [
        "b_size = 16\n",
        "training_set = VoxelDataset(partition[\"train\"])\n",
        "train_loader = torch.utils.data.DataLoader(training_set, batch_size=b_size, shuffle=True)"
      ],
      "metadata": {
        "id": "XjtD5e-Qf5q2"
      },
      "execution_count": null,
      "outputs": []
    },
    {
      "cell_type": "code",
      "source": [
        "device = torch.device(\"cuda\" if torch.cuda.is_available() else \"cpu\")"
      ],
      "metadata": {
        "id": "oO52AR_6gavk"
      },
      "execution_count": null,
      "outputs": []
    },
    {
      "cell_type": "markdown",
      "source": [
        "## Encoder"
      ],
      "metadata": {
        "id": "G4HwkmZPgh2D"
      }
    },
    {
      "cell_type": "code",
      "source": [
        "class Encoder(nn.Module):\n",
        "  def __init__(self, device):\n",
        "    super(Encoder, self).__init__()\n",
        "\n",
        "    self.conv_layer_1 = self._conv_layer_set(1, 64, 2, 1, 0, maxPool=True)\n",
        "    self.conv_layer_2 = self._gcr_set(64, 64, 128, 2, 1, 0, maxPool=True)\n",
        "    self.conv_layer_3 = self._gcr_set(128, 128, 256, 2, 1, 0, maxPool=True)\n",
        "    self.sigmoid = nn.Sigmoid()\n",
        "    self.device = device\n",
        "\n",
        "\n",
        "  def _conv_layer_set(self, in_c, out_c, kernel_size, stride, padding, maxPool):\n",
        "    if(maxPool == True):\n",
        "      conv_layer = nn.Sequential(\n",
        "          nn.Conv3d(in_c, out_c, kernel_size, stride, padding),\n",
        "          nn.MaxPool3d(1, kernel_size)\n",
        "      )\n",
        "    else:\n",
        "      conv_layer = nn.Sequential(\n",
        "          nn.Conv3d(in_c, out_c, kernel_size, stride, padding)\n",
        "      )\n",
        "    return conv_layer\n",
        "\n",
        "\n",
        "  def _gcr_set(self, num_g, in_c, out_c, kernel_size, stride, padding, maxPool):\n",
        "    if(maxPool==True):\n",
        "      GCR_layer = nn.Sequential(\n",
        "        nn.GroupNorm(num_g, in_c),\n",
        "        nn.Conv3d(in_c, out_c, kernel_size, stride, padding),\n",
        "        nn.ReLU(),\n",
        "        nn.MaxPool3d(1, kernel_size)\n",
        "      )\n",
        "    else:\n",
        "      GCR_layer = nn.Sequential(\n",
        "        nn.GroupNorm(num_g, in_c),\n",
        "        nn.Conv3d(in_c, out_c, kernel_size, stride, padding),\n",
        "      )\n",
        "    return GCR_layer\n",
        "\n",
        "\n",
        "  def forward(self, x):\n",
        "    bn = self.conv_layer_1(x)\n",
        "    bn = self.conv_layer_2(bn)\n",
        "    bn = self.conv_layer_3(bn)\n",
        "    return bn"
      ],
      "metadata": {
        "id": "uI5emkX4glon"
      },
      "execution_count": null,
      "outputs": []
    },
    {
      "cell_type": "markdown",
      "source": [
        "## Decoder"
      ],
      "metadata": {
        "id": "Nji0lAIUg0mM"
      }
    },
    {
      "cell_type": "code",
      "source": [
        "class Decoder(nn.Module):\n",
        "  def __init__(self, device):\n",
        "    super(Decoder, self).__init__()\n",
        "\n",
        "    self.conv_transpose_1 = self._gcr_transpose_set(256, 256, 128, 4, 2, 1)\n",
        "    self.conv_transpose_2 = self._gcr_transpose_set(128, 128, 64, 4, 2, 1)\n",
        "    self.conv_transpose_3 = self._gcr_transpose_set(64, 64, 1, 4, 2, 1)\n",
        "\n",
        "  def _gcr_transpose_set(self, num_g, in_c, out_c, kernel_size, stride, padding):\n",
        "    gcr_layer = nn.Sequential(\n",
        "        nn.GroupNorm(num_g, in_c),\n",
        "        nn.ConvTranspose3d(in_c, out_c, kernel_size, stride, padding),\n",
        "        nn.ReLU(),\n",
        "    )\n",
        "    return gcr_layer\n",
        "\n",
        "\n",
        "  def forward(self, x):\n",
        "    z = self.conv_transpose_1(x)\n",
        "    z = self.conv_transpose_2(z)\n",
        "    z = self.conv_transpose_3(z)\n",
        "    output = z\n",
        "    return output"
      ],
      "metadata": {
        "id": "1Io-LMjOg2mg"
      },
      "execution_count": null,
      "outputs": []
    },
    {
      "cell_type": "markdown",
      "source": [
        "## Straight Through Estimator"
      ],
      "metadata": {
        "id": "FwwuFXSWhLFD"
      }
    },
    {
      "cell_type": "code",
      "source": [
        "class STEFunction(torch.autograd.Function):\n",
        "  @staticmethod\n",
        "  def forward(ctx, input):\n",
        "    return (input > 0.5).float()\n",
        "\n",
        "  @staticmethod\n",
        "  def backward(ctx, grad_output):\n",
        "    return F.hardtanh(grad_output)"
      ],
      "metadata": {
        "id": "amzS4TyRhNr2"
      },
      "execution_count": null,
      "outputs": []
    },
    {
      "cell_type": "code",
      "source": [
        "class StraightThroughEstimator(nn.Module):\n",
        "  def __init__(self):\n",
        "    super(StraightThroughEstimator, self).__init__()\n",
        "\n",
        "  def forward(self, x):\n",
        "    x= STEFunction.apply(x)\n",
        "    return x"
      ],
      "metadata": {
        "id": "acJcLdLwhSuP"
      },
      "execution_count": null,
      "outputs": []
    },
    {
      "cell_type": "markdown",
      "source": [
        "## VAE"
      ],
      "metadata": {
        "id": "gWI2G-CQhWr_"
      }
    },
    {
      "cell_type": "code",
      "source": [
        "class VAE(nn.Module):\n",
        "  def __init__(self, Encoder, Decoder, STE, device):\n",
        "    super(VAE, self).__init__()\n",
        "\n",
        "    self.Encoder = Encoder\n",
        "    self.Decoder = Decoder\n",
        "    self.device = device\n",
        "    self.flatten = nn.Flatten()\n",
        "    self.z_mean = nn.Linear(131072, 16)\n",
        "    self.z_log_var = nn.Linear(131072, 16)\n",
        "    self.reshape = nn.Sequential(\n",
        "        nn.Linear(16, 131072)\n",
        "    )\n",
        "    self.STE = STE\n",
        "\n",
        "  def reparameterize(self, z_mu, z_log_var):\n",
        "    eps = torch.randn_like(z_log_var)\n",
        "    z = z_mu + eps * torch.exp(z_log_var*0.5)\n",
        "    return z\n",
        "\n",
        "  def forward(self, x):\n",
        "    bn = self.Encoder(x)\n",
        "\n",
        "    latent_vec = self.flatten(bn)\n",
        "    z_mean = self.z_mean(latent_vec)\n",
        "    z_log_var = self.z_log_var(latent_vec)\n",
        "    z_log_var = torch.clamp(z_log_var, min=-100.0, max=100.0)\n",
        "    z = self.reparameterize(z_mean, z_log_var)\n",
        "    z = self.reshape(z)\n",
        "    z = z.view(x.shape[0], 256, 8, 8, 8)\n",
        "\n",
        "    output = self.Decoder(z)\n",
        "\n",
        "    output = self.STE(output)\n",
        "\n",
        "    return output, z_mean, z_log_var"
      ],
      "metadata": {
        "id": "Wn0AkrsghYn8"
      },
      "execution_count": null,
      "outputs": []
    },
    {
      "cell_type": "code",
      "source": [
        "vae = VAE(Encoder(device), Decoder(device), StraightThroughEstimator(), device).to(device)\n",
        "vae.train()"
      ],
      "metadata": {
        "id": "ODZJI3RKiEDE"
      },
      "execution_count": null,
      "outputs": []
    },
    {
      "cell_type": "markdown",
      "source": [
        "## Training Loop"
      ],
      "metadata": {
        "id": "hzdEUIqmiNf-"
      }
    },
    {
      "cell_type": "code",
      "source": [
        "learning_rate = 0.0001\n",
        "optimizer = torch.optim.Adam(vae.parameters(), learning_rate)"
      ],
      "metadata": {
        "id": "KzoUUGXxiPxR"
      },
      "execution_count": null,
      "outputs": []
    },
    {
      "cell_type": "code",
      "source": [
        "epochs = 100\n",
        "step = 0\n",
        "loss = -1\n",
        "train_loader_len = len(train_loader)\n",
        "for epoch in range(epochs):\n",
        "  print(\"***************** Epoch: \", epoch, \"***********************\")\n",
        "  checkpoint = {\n",
        "      \"epoch\": epoch,\n",
        "      \"model_state_dict\": vae.state_dict(),\n",
        "      \"optimizer_state_dict\": optimizer.state_dict(),\n",
        "      'loss': loss,\n",
        "  }\n",
        "\n",
        "  torch.save(checkpoint, 'VAECheckpoint.pth')\n",
        "  ! cp VAECheckpoint.pth /path/to/save\n",
        "\n",
        "  for idx, data in enumerate(train_loader):\n",
        "    if(idx >= train_loader_len - 1):\n",
        "      continue\n",
        "    step += 1\n",
        "    tempTensorList = []\n",
        "    tempNormalsList = []\n",
        "    idx+=1\n",
        "    for item in range(len(data)):\n",
        "      convertedModel = torch.load(f\"./binvoxModels_x64/{data[item]}\")\n",
        "      tempTensorList.append(convertedModel)\n",
        "      normals = torch.load(f'./binvoxNormals_x64/{data[item]}.pt')\n",
        "      tempNormalsList.append(normals)\n",
        "    inputTensor = torch.stack(tempTensorList, dim=0).to(device)\n",
        "    normalsTensor = torch.stack(tempNormalsList, dim=0).to(device)\n",
        "    outputTensor, z_mean, z_log_var = vae(inputTensor)\n",
        "\n",
        "    # Calculate normals for predicted output\n",
        "    predictedNormals = calcNormals(outputTensor)\n",
        "    reshapedOriginalNormals = normalsTensor.view(normalsTensor.shape[0], normalsTensor.shape[1], -1)\n",
        "    reshapedPredNormals = predictedNormals.view(predictedNormals.shape[0], predictedNormals.shape[1], -1)\n",
        "    L2NormOriginal = torch.linalg.norm(reshapedOriginalNormals, dim=2)\n",
        "    L2NormPred = torch.linalg.norm(reshapedPredNormals, dim=2)\n",
        "    normalsWeight = 1.0\n",
        "    normalsLoss = torch.abs(torch.sum(normalsWeight * (L2NormPred - L2NormOriginal)) / 48 )\n",
        "\n",
        "    bceLoss = nn.BCELoss()\n",
        "    bceResult = bceLoss(inputTensor, outputTensor)\n",
        "\n",
        "    kl_weight = 0.0015\n",
        "    kl_div = -0.5 * torch.sum(1 + z_log_var - z_mean.pow(2) - torch.exp(z_log_var), dim=1)\n",
        "    kl_div = kl_div.mean()\n",
        "\n",
        "    loss = (bceResult + normalsLoss) + (kl_weight * kl_div)\n",
        "\n",
        "    optimizer.zero_grad()\n",
        "    torch.autograd.set_detect_anomaly(True)\n",
        "    loss.backward()\n",
        "    optimizer.step()\n",
        "\n",
        "    if step % 50 == 0:\n",
        "      print(\"Epoch\", epoch, \"step\", step, \"Loss\", loss.detach().item(), \"BCE\", bceResult.detach().item(), \"KL_Div\", (kl_weight*kl_div).detach().item())\n",
        "      for name, param in vae.named_parameters():\n",
        "        if param.grad is not None:\n",
        "          print(name, torch.norm(param.grad).item())"
      ],
      "metadata": {
        "id": "crLyQIIGiV60"
      },
      "execution_count": null,
      "outputs": []
    },
    {
      "cell_type": "markdown",
      "source": [
        "# Diffusion Model"
      ],
      "metadata": {
        "id": "a90YBh1mjfZi"
      }
    },
    {
      "cell_type": "markdown",
      "source": [
        "## Helper Functions"
      ],
      "metadata": {
        "id": "W4u6vTyqqF7Q"
      }
    },
    {
      "cell_type": "code",
      "source": [
        "def linear_beta_schedule(timesteps, start=0.0001, end=0.02):\n",
        "  return torch.linspace(start, end, timesteps)\n",
        "\n",
        "def get_index_from_list(vals, t, x_shape):\n",
        "  \"\"\"\n",
        "  Returns a specific index t of a list of values 'vals'\n",
        "  \"\"\"\n",
        "  batch_size = t.shape[0]\n",
        "  out = vals.gather(-1, t.cpu())\n",
        "  return out.reshape(batch_size, *((1,) * (len(x_shape) - 1))).to(device)\n",
        "\n",
        "def forward_diffusion_sample(x_0, t, device):\n",
        "  \"\"\"\n",
        "  Takes an image and a timestep and returns\n",
        "  noisy version of the image at the timestep\n",
        "  \"\"\"\n",
        "\n",
        "  noise = torch.randn_like(x_0)\n",
        "  sqrt_alphas_cumprod_t = get_index_from_list(sqrt_alphas_cumprod, t, x_0.shape)\n",
        "  sqrt_one_minus_alphas_cumprod_t = get_index_from_list(\n",
        "      sqrt_one_minus_alphas_cumprod, t, x_0.shape\n",
        "  )\n",
        "  # Mean + variance\n",
        "  return sqrt_alphas_cumprod_t.to(device) * x_0.to(device) + sqrt_one_minus_alphas_cumprod_t.to(device) * noise.to(device), noise.to(device)\n",
        "\n",
        "\n",
        "# Define beta schedule\n",
        "timesteps = 1000\n",
        "betas = linear_beta_schedule(timesteps=timesteps)\n",
        "\n",
        "# Pre-calcualte different terms for closed form\n",
        "alphas = 1. - betas\n",
        "alphas_cumprod = torch.cumprod(alphas, axis=0)\n",
        "alphas_cumprod_prev = F.pad(alphas_cumprod[:-1], (1,0), value=1.0)\n",
        "sqrt_recip_alphas = torch.sqrt(1.0 / alphas)\n",
        "sqrt_alphas_cumprod = torch.sqrt(alphas_cumprod)\n",
        "sqrt_one_minus_alphas_cumprod = torch.sqrt(1. - alphas_cumprod)\n",
        "posterior_variance = betas * (1. - alphas_cumprod_prev) / (1. - alphas_cumprod)"
      ],
      "metadata": {
        "id": "1BrUvX2ijg35"
      },
      "execution_count": null,
      "outputs": []
    },
    {
      "cell_type": "code",
      "source": [
        "def get_v_loss(x_0, noise, t):\n",
        "  v = get_index_from_list(sqrt_alphas_cumprod, t, x_0.shape) * noise - get_index_from_list(sqrt_one_minus_alphas_cumprod, t, x_0.shape) * x_0\n",
        "  return v"
      ],
      "metadata": {
        "id": "-HSNXG3TkFn6"
      },
      "execution_count": null,
      "outputs": []
    },
    {
      "cell_type": "markdown",
      "source": [
        "## Archictecture"
      ],
      "metadata": {
        "id": "pd_1U5pNqIVf"
      }
    },
    {
      "cell_type": "code",
      "source": [
        "class Block(nn.Module):\n",
        "  def __init__(self, in_c, out_c, time_emb_dim, up=False):\n",
        "    super().__init__()\n",
        "\n",
        "    self.time_mlp = nn.Linear(time_emb_dim, out_c).to(device)\n",
        "\n",
        "    if up:\n",
        "      self.conv_1 = nn.Conv3d(in_c, out_c, 3, padding=1).to(device)\n",
        "      self.transform = nn.ConvTranspose3d(out_c, out_c, 1).to(device)\n",
        "    else:\n",
        "      self.conv_1 = nn.Conv3d(in_c, out_c, 3, padding=1).to(device)\n",
        "      self.transform = nn.Conv3d(out_c, out_c, 4, 2, 1).to(device)\n",
        "    self.conv_2 = nn.Conv3d(out_c, out_c, 3, padding=1).to(device)\n",
        "    self.bnorm_1 = nn.BatchNorm3d(out_c).to(device)\n",
        "    self.bnorm_2 = nn.BatchNorm3d(out_c).to(device)\n",
        "    self.relu = nn.ReLU().to(device)\n",
        "\n",
        "  def forward(self, x, t):\n",
        "    out = self.bnorm_1(self.relu(self.conv_1(x)))\n",
        "    # Time Embedding\n",
        "    time_emb = self.relu(self.time_mlp(t))\n",
        "    # Extend last 2 dims\n",
        "    time_emb = time_emb[(...,) + (None,) * 3]\n",
        "    # Add time embedding\n",
        "    out = out + time_emb\n",
        "    out = self.bnorm_2(self.relu(self.conv_2(out)))\n",
        "    return self.transform(out)"
      ],
      "metadata": {
        "id": "z6449dRxj26Q"
      },
      "execution_count": null,
      "outputs": []
    },
    {
      "cell_type": "code",
      "source": [
        "class SinusoidalPositionEmbeddings(nn.Module):\n",
        "  def __init__(self, dim):\n",
        "    super().__init__()\n",
        "    self.dim = dim\n",
        "\n",
        "  def forward(self, time):\n",
        "    device = time.device\n",
        "    half_dim = self.dim // 2\n",
        "    embeddings = math.log(10000) / (half_dim - 1)\n",
        "    embeddings = torch.exp(torch.arange(half_dim, device=device) * -embeddings)\n",
        "    embeddings = time[:, None] * embeddings[None, :]\n",
        "    embeddings = torch.cat((embeddings.sin(), embeddings.cos()), dim=-1)\n",
        "    return embeddings"
      ],
      "metadata": {
        "id": "UuUyEJVsj4IO"
      },
      "execution_count": null,
      "outputs": []
    },
    {
      "cell_type": "code",
      "source": [
        "class Unet(nn.Module):\n",
        "  def __init__(self):\n",
        "    super().__init__()\n",
        "    in_c = 256\n",
        "    channels = (256, 512, 1024, 2048)\n",
        "    out_dim = 256\n",
        "    time_emb_dim = 32\n",
        "\n",
        "    self.time_mlp = nn.Sequential(\n",
        "            SinusoidalPositionEmbeddings(time_emb_dim),\n",
        "            nn.Linear(time_emb_dim, time_emb_dim),\n",
        "            nn.ReLU()\n",
        "        ).to(device)\n",
        "\n",
        "    self.conv_0 = nn.Conv3d(in_c, channels[0], 3, padding=1).to(device)\n",
        "    self.down_1 = Block(channels[0], channels[1], time_emb_dim)\n",
        "    self.down_2 = Block(channels[1], channels[2], time_emb_dim)\n",
        "    self.down_3 = Block(channels[2], channels[2], time_emb_dim)\n",
        "\n",
        "    self.up_conv_1 = nn.ConvTranspose3d(channels[2], channels[2], 4, 2, 1).to(device)\n",
        "    self.up_conv_2 = nn.ConvTranspose3d(channels[2], channels[1], 4, 2, 1).to(device)\n",
        "    self.up_conv_3 = nn.ConvTranspose3d(channels[1], channels[0], 4, 2, 1).to(device)\n",
        "\n",
        "    self.dec_1 = Block(channels[3], channels[2], time_emb_dim, up=True)\n",
        "    self.dec_2 = Block(channels[2], channels[1], time_emb_dim, up=True)\n",
        "    self.dec_3 = Block(channels[1], channels[0], time_emb_dim, up=True)\n",
        "\n",
        "  def forward(self, x, timestep):\n",
        "    skip_connections = []\n",
        "    t = self.time_mlp(timestep)\n",
        "\n",
        "    x = self.conv_0(x)\n",
        "    skip_connections.append(x)\n",
        "\n",
        "    x = self.down_1(x, t)\n",
        "    skip_connections.append(x)\n",
        "\n",
        "    x = self.down_2(x, t)\n",
        "    skip_connections.append(x)\n",
        "\n",
        "    x = self.down_3(x, t)\n",
        "\n",
        "    x = self.up_conv_1(x)\n",
        "    skip_1 = skip_connections.pop()\n",
        "    x = torch.cat((x, skip_1), dim=1)\n",
        "\n",
        "    x = self.dec_1(x, t)\n",
        "\n",
        "    x = self.up_conv_2(x)\n",
        "    skip_2 = skip_connections.pop()\n",
        "    x = torch.cat((x, skip_2), dim=1)\n",
        "\n",
        "    x = self.dec_2(x, t)\n",
        "\n",
        "    x = self.up_conv_3(x)\n",
        "    skip_3 = skip_connections.pop()\n",
        "    x = torch.cat((x, skip_3), dim=1)\n",
        "\n",
        "    x = self.dec_3(x, t)\n",
        "    return x"
      ],
      "metadata": {
        "id": "tpjOdD2Ij6Dz"
      },
      "execution_count": null,
      "outputs": []
    },
    {
      "cell_type": "code",
      "source": [
        "model = Unet()"
      ],
      "metadata": {
        "id": "vKnfjNzVkA2I"
      },
      "execution_count": null,
      "outputs": []
    },
    {
      "cell_type": "markdown",
      "source": [
        "## Training Loop"
      ],
      "metadata": {
        "id": "CUqeWgjYqL4X"
      }
    },
    {
      "cell_type": "code",
      "source": [
        "lr = 0.00005\n",
        "optimizer = torch.optim.Adam(model.parameters(), lr)"
      ],
      "metadata": {
        "id": "cL0aBkc_kDIW"
      },
      "execution_count": null,
      "outputs": []
    },
    {
      "cell_type": "code",
      "source": [
        "encoder = vae.Encoder\n",
        "epochs = 100\n",
        "step = 0\n",
        "loss = -1\n",
        "timestep_inc = (timesteps / epochs)\n",
        "for epoch in range(epochs):\n",
        "  print(\"************** Epoch:\", epoch, \"******************\")\n",
        "  checkpoint = {\n",
        "      \"epoch\": epoch,\n",
        "      \"model_state_dict\": model.state_dict(),\n",
        "      \"optimizer_state_dict\": optimizer.state_dict(),\n",
        "      \"loss\": loss\n",
        "  }\n",
        "  torch.save(checkpoint, \"DiffusionCheckpoint.pth\")\n",
        "  ! cp DiffusionCheckpoint.pth /path/to/savepoint\n",
        "\n",
        "  for idx, data in enumerate(train_loader):\n",
        "    if(idx >= len(train_loader) - 1):\n",
        "      continue\n",
        "    step += 1\n",
        "\n",
        "    tempTensorList = []\n",
        "    for item in range(len(data)):\n",
        "      voxels = torch.load(f\"./binvoxModels_x64/{data[item]}\")\n",
        "      tempTensorList.append(voxels)\n",
        "    inputTensor = torch.stack(tempTensorList, dim=0).to(device)\n",
        "    with torch.no_grad():\n",
        "      encodedOutput = encoder(inputTensor)\n",
        "\n",
        "    time = torch.tensor([timestep_inc * epoch]).type(torch.int64).to(device)\n",
        "    noisy_voxels, noise = forward_diffusion_sample(encodedOutput, time, device)\n",
        "    pred = model(noisy_voxels, time)\n",
        "\n",
        "    mseLoss = nn.MSELoss()\n",
        "    target = get_v_loss(encodedOutput, noise, time)\n",
        "    loss = mseLoss(target, pred)\n",
        "    optimizer.zero_grad()\n",
        "    loss.backward()\n",
        "    optimizer.step()\n",
        "\n",
        "    if step % 50 == 0:\n",
        "      print(\"Epoch\", epoch, \"loss\", loss.detach().item(), \"step\", step)\n",
        "      for name, param in model.named_parameters():\n",
        "        if param.grad is not None:\n",
        "          print(name, torch.norm(param.grad).item())"
      ],
      "metadata": {
        "id": "1AEMAwR6kHdN"
      },
      "execution_count": null,
      "outputs": []
    }
  ]
}